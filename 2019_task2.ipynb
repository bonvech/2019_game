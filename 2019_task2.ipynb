{
 "cells": [
  {
   "cell_type": "code",
   "execution_count": 1,
   "metadata": {},
   "outputs": [
    {
     "name": "stdout",
     "output_type": "stream",
     "text": [
      "/home/alena/192/Olympiads/2019_mosh_inf/problems\n",
      "Пн фев 10 23:21:35 MSK 2020\n",
      "a0ans.txt  a2.txt     b1.txt\t c0.txt  d0ans.txt  d2.txt\n",
      "a0.txt\t   b0ans.txt  b2.txt\t c1.txt  d0.txt     problems.pdf\n",
      "a1.txt\t   b0.txt     c0ans.txt  c2.txt  d1.txt     Untitled.ipynb\n"
     ]
    }
   ],
   "source": [
    "!pwd\n",
    "!date\n",
    "!ls"
   ]
  },
  {
   "cell_type": "code",
   "execution_count": 5,
   "metadata": {},
   "outputs": [],
   "source": [
    "%matplotlib inline\n",
    "import pandas as pd\n",
    "import matplotlib.pyplot as plt\n",
    "import matplotlib as mp\n",
    "import seaborn as sns"
   ]
  },
  {
   "cell_type": "code",
   "execution_count": 3,
   "metadata": {},
   "outputs": [
    {
     "data": {
      "text/html": [
       "<div>\n",
       "<style scoped>\n",
       "    .dataframe tbody tr th:only-of-type {\n",
       "        vertical-align: middle;\n",
       "    }\n",
       "\n",
       "    .dataframe tbody tr th {\n",
       "        vertical-align: top;\n",
       "    }\n",
       "\n",
       "    .dataframe thead th {\n",
       "        text-align: right;\n",
       "    }\n",
       "</style>\n",
       "<table border=\"1\" class=\"dataframe\">\n",
       "  <thead>\n",
       "    <tr style=\"text-align: right;\">\n",
       "      <th></th>\n",
       "      <th>0</th>\n",
       "      <th>1</th>\n",
       "      <th>2</th>\n",
       "      <th>3</th>\n",
       "      <th>4</th>\n",
       "      <th>5</th>\n",
       "      <th>6</th>\n",
       "      <th>7</th>\n",
       "      <th>8</th>\n",
       "      <th>9</th>\n",
       "      <th>...</th>\n",
       "      <th>91</th>\n",
       "      <th>92</th>\n",
       "      <th>93</th>\n",
       "      <th>94</th>\n",
       "      <th>95</th>\n",
       "      <th>96</th>\n",
       "      <th>97</th>\n",
       "      <th>98</th>\n",
       "      <th>99</th>\n",
       "      <th>100</th>\n",
       "    </tr>\n",
       "  </thead>\n",
       "  <tbody>\n",
       "    <tr>\n",
       "      <th>0</th>\n",
       "      <td>200</td>\n",
       "      <td>399</td>\n",
       "      <td>519</td>\n",
       "      <td>401</td>\n",
       "      <td>313</td>\n",
       "      <td>226</td>\n",
       "      <td>355</td>\n",
       "      <td>259</td>\n",
       "      <td>310</td>\n",
       "      <td>295</td>\n",
       "      <td>...</td>\n",
       "      <td>392</td>\n",
       "      <td>384</td>\n",
       "      <td>342</td>\n",
       "      <td>366</td>\n",
       "      <td>248</td>\n",
       "      <td>334</td>\n",
       "      <td>282</td>\n",
       "      <td>317</td>\n",
       "      <td>164</td>\n",
       "      <td>NaN</td>\n",
       "    </tr>\n",
       "    <tr>\n",
       "      <th>1</th>\n",
       "      <td>315</td>\n",
       "      <td>585</td>\n",
       "      <td>729</td>\n",
       "      <td>606</td>\n",
       "      <td>540</td>\n",
       "      <td>418</td>\n",
       "      <td>472</td>\n",
       "      <td>318</td>\n",
       "      <td>432</td>\n",
       "      <td>456</td>\n",
       "      <td>...</td>\n",
       "      <td>580</td>\n",
       "      <td>566</td>\n",
       "      <td>576</td>\n",
       "      <td>533</td>\n",
       "      <td>406</td>\n",
       "      <td>468</td>\n",
       "      <td>488</td>\n",
       "      <td>525</td>\n",
       "      <td>338</td>\n",
       "      <td>NaN</td>\n",
       "    </tr>\n",
       "    <tr>\n",
       "      <th>2</th>\n",
       "      <td>353</td>\n",
       "      <td>610</td>\n",
       "      <td>659</td>\n",
       "      <td>547</td>\n",
       "      <td>483</td>\n",
       "      <td>519</td>\n",
       "      <td>473</td>\n",
       "      <td>371</td>\n",
       "      <td>380</td>\n",
       "      <td>477</td>\n",
       "      <td>...</td>\n",
       "      <td>488</td>\n",
       "      <td>487</td>\n",
       "      <td>526</td>\n",
       "      <td>518</td>\n",
       "      <td>452</td>\n",
       "      <td>463</td>\n",
       "      <td>505</td>\n",
       "      <td>563</td>\n",
       "      <td>404</td>\n",
       "      <td>NaN</td>\n",
       "    </tr>\n",
       "    <tr>\n",
       "      <th>3</th>\n",
       "      <td>364</td>\n",
       "      <td>575</td>\n",
       "      <td>562</td>\n",
       "      <td>495</td>\n",
       "      <td>515</td>\n",
       "      <td>526</td>\n",
       "      <td>404</td>\n",
       "      <td>327</td>\n",
       "      <td>381</td>\n",
       "      <td>527</td>\n",
       "      <td>...</td>\n",
       "      <td>357</td>\n",
       "      <td>435</td>\n",
       "      <td>456</td>\n",
       "      <td>439</td>\n",
       "      <td>372</td>\n",
       "      <td>433</td>\n",
       "      <td>507</td>\n",
       "      <td>603</td>\n",
       "      <td>435</td>\n",
       "      <td>NaN</td>\n",
       "    </tr>\n",
       "    <tr>\n",
       "      <th>4</th>\n",
       "      <td>268</td>\n",
       "      <td>463</td>\n",
       "      <td>447</td>\n",
       "      <td>448</td>\n",
       "      <td>419</td>\n",
       "      <td>470</td>\n",
       "      <td>421</td>\n",
       "      <td>392</td>\n",
       "      <td>450</td>\n",
       "      <td>524</td>\n",
       "      <td>...</td>\n",
       "      <td>394</td>\n",
       "      <td>391</td>\n",
       "      <td>366</td>\n",
       "      <td>385</td>\n",
       "      <td>393</td>\n",
       "      <td>421</td>\n",
       "      <td>419</td>\n",
       "      <td>502</td>\n",
       "      <td>331</td>\n",
       "      <td>NaN</td>\n",
       "    </tr>\n",
       "  </tbody>\n",
       "</table>\n",
       "<p>5 rows × 101 columns</p>\n",
       "</div>"
      ],
      "text/plain": [
       "   0    1    2    3    4    5    6    7    8    9    ...  91   92   93   94   \\\n",
       "0  200  399  519  401  313  226  355  259  310  295  ...  392  384  342  366   \n",
       "1  315  585  729  606  540  418  472  318  432  456  ...  580  566  576  533   \n",
       "2  353  610  659  547  483  519  473  371  380  477  ...  488  487  526  518   \n",
       "3  364  575  562  495  515  526  404  327  381  527  ...  357  435  456  439   \n",
       "4  268  463  447  448  419  470  421  392  450  524  ...  394  391  366  385   \n",
       "\n",
       "   95   96   97   98   99   100  \n",
       "0  248  334  282  317  164  NaN  \n",
       "1  406  468  488  525  338  NaN  \n",
       "2  452  463  505  563  404  NaN  \n",
       "3  372  433  507  603  435  NaN  \n",
       "4  393  421  419  502  331  NaN  \n",
       "\n",
       "[5 rows x 101 columns]"
      ]
     },
     "execution_count": 3,
     "metadata": {},
     "output_type": "execute_result"
    }
   ],
   "source": [
    "filename = \"b2.dat\"\n",
    "data = pd.read_csv(filename, header = None, index_col=None, sep='\\t')\n",
    "data.head()"
   ]
  },
  {
   "cell_type": "code",
   "execution_count": 20,
   "metadata": {},
   "outputs": [
    {
     "data": {
      "text/plain": [
       "<matplotlib.axes._subplots.AxesSubplot at 0x7f6543e09410>"
      ]
     },
     "execution_count": 20,
     "metadata": {},
     "output_type": "execute_result"
    },
    {
     "data": {
      "image/png": "[encoded data removed]",
      "text/plain": [
       "<Figure size 864x648 with 2 Axes>"
      ]
     },
     "metadata": {
      "needs_background": "light"
     },
     "output_type": "display_data"
    }
   ],
   "source": [
    "from matplotlib import colors\n",
    "colorscale = \"gist_gray\"\n",
    "fig, axn = plt.subplots(1, 1, sharex=True, sharey=True, figsize=(12, 9))\n",
    "sns.heatmap(data, #ax=ax, \n",
    "            cmap = colorscale,\n",
    "            vmin=0, \n",
    "            xticklabels=20, yticklabels=200,\n",
    "           )"
   ]
  },
  {
   "cell_type": "code",
   "execution_count": 21,
   "metadata": {},
   "outputs": [
    {
     "data": {
      "text/html": [
       "<div>\n",
       "<style scoped>\n",
       "    .dataframe tbody tr th:only-of-type {\n",
       "        vertical-align: middle;\n",
       "    }\n",
       "\n",
       "    .dataframe tbody tr th {\n",
       "        vertical-align: top;\n",
       "    }\n",
       "\n",
       "    .dataframe thead th {\n",
       "        text-align: right;\n",
       "    }\n",
       "</style>\n",
       "<table border=\"1\" class=\"dataframe\">\n",
       "  <thead>\n",
       "    <tr style=\"text-align: right;\">\n",
       "      <th></th>\n",
       "      <th>0</th>\n",
       "      <th>1</th>\n",
       "      <th>2</th>\n",
       "      <th>3</th>\n",
       "      <th>4</th>\n",
       "    </tr>\n",
       "  </thead>\n",
       "  <tbody>\n",
       "    <tr>\n",
       "      <th>0</th>\n",
       "      <td>26</td>\n",
       "      <td>36</td>\n",
       "      <td>35</td>\n",
       "      <td>26</td>\n",
       "      <td>16</td>\n",
       "    </tr>\n",
       "    <tr>\n",
       "      <th>1</th>\n",
       "      <td>38</td>\n",
       "      <td>53</td>\n",
       "      <td>49</td>\n",
       "      <td>33</td>\n",
       "      <td>18</td>\n",
       "    </tr>\n",
       "    <tr>\n",
       "      <th>2</th>\n",
       "      <td>33</td>\n",
       "      <td>52</td>\n",
       "      <td>53</td>\n",
       "      <td>43</td>\n",
       "      <td>24</td>\n",
       "    </tr>\n",
       "    <tr>\n",
       "      <th>3</th>\n",
       "      <td>25</td>\n",
       "      <td>41</td>\n",
       "      <td>43</td>\n",
       "      <td>44</td>\n",
       "      <td>28</td>\n",
       "    </tr>\n",
       "    <tr>\n",
       "      <th>4</th>\n",
       "      <td>13</td>\n",
       "      <td>24</td>\n",
       "      <td>29</td>\n",
       "      <td>37</td>\n",
       "      <td>26</td>\n",
       "    </tr>\n",
       "  </tbody>\n",
       "</table>\n",
       "</div>"
      ],
      "text/plain": [
       "    0   1   2   3   4\n",
       "0  26  36  35  26  16\n",
       "1  38  53  49  33  18\n",
       "2  33  52  53  43  24\n",
       "3  25  41  43  44  28\n",
       "4  13  24  29  37  26"
      ]
     },
     "execution_count": 21,
     "metadata": {},
     "output_type": "execute_result"
    }
   ],
   "source": [
    "filename = \"b1.dat\"\n",
    "data1 = pd.read_csv(filename, header = None, index_col=None, sep='\\t')\n",
    "data1.head()"
   ]
  },
  {
   "cell_type": "code",
   "execution_count": 24,
   "metadata": {},
   "outputs": [
    {
     "data": {
      "text/plain": [
       "<matplotlib.axes._subplots.AxesSubplot at 0x7f6543d2db50>"
      ]
     },
     "execution_count": 24,
     "metadata": {},
     "output_type": "execute_result"
    },
    {
     "data": {
      "image/png": "[encoded data removed]",
      "text/plain": [
       "<Figure size 504x360 with 2 Axes>"
      ]
     },
     "metadata": {
      "needs_background": "light"
     },
     "output_type": "display_data"
    }
   ],
   "source": [
    "fig, axn = plt.subplots(1, 1, sharex=True, sharey=True, figsize=(7, 5))\n",
    "sns.heatmap(data1, #ax=ax, \n",
    "            cmap = colorscale,\n",
    "            #cbar=i == 0,\n",
    "            vmin=0, \n",
    "            xticklabels=20, yticklabels=200,\n",
    "           )"
   ]
  }
 ],
 "metadata": {
  "kernelspec": {
   "display_name": "Python 3",
   "language": "python",
   "name": "python3"
  },
  "language_info": {
   "codemirror_mode": {
    "name": "ipython",
    "version": 3
   },
   "file_extension": ".py",
   "mimetype": "text/x-python",
   "name": "python",
   "nbconvert_exporter": "python",
   "pygments_lexer": "ipython3",
   "version": "3.7.4"
  }
 },
 "nbformat": 4,
 "nbformat_minor": 2
}
